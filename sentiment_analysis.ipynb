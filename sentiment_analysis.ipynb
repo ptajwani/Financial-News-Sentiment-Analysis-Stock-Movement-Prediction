{
 "cells": [
  {
   "cell_type": "code",
   "execution_count": 4,
   "id": "97001b92",
   "metadata": {},
   "outputs": [],
   "source": [
    "import pandas as pd"
   ]
  },
  {
   "cell_type": "code",
   "execution_count": 5,
   "id": "05118a0c",
   "metadata": {},
   "outputs": [
    {
     "data": {
      "text/html": [
       "<div>\n",
       "<style scoped>\n",
       "    .dataframe tbody tr th:only-of-type {\n",
       "        vertical-align: middle;\n",
       "    }\n",
       "\n",
       "    .dataframe tbody tr th {\n",
       "        vertical-align: top;\n",
       "    }\n",
       "\n",
       "    .dataframe thead th {\n",
       "        text-align: right;\n",
       "    }\n",
       "</style>\n",
       "<table border=\"1\" class=\"dataframe\">\n",
       "  <thead>\n",
       "    <tr style=\"text-align: right;\">\n",
       "      <th></th>\n",
       "      <th>date</th>\n",
       "      <th>open</th>\n",
       "      <th>close</th>\n",
       "      <th>movement</th>\n",
       "      <th>headline</th>\n",
       "      <th>label</th>\n",
       "      <th>label_num</th>\n",
       "    </tr>\n",
       "  </thead>\n",
       "  <tbody>\n",
       "    <tr>\n",
       "      <th>0</th>\n",
       "      <td>2023-01-03</td>\n",
       "      <td>128.613993</td>\n",
       "      <td>123.470619</td>\n",
       "      <td>-5.143374</td>\n",
       "      <td>markets close mostly lower again rost panw rep...</td>\n",
       "      <td>negative</td>\n",
       "      <td>-1</td>\n",
       "    </tr>\n",
       "    <tr>\n",
       "      <th>1</th>\n",
       "      <td>2023-01-03</td>\n",
       "      <td>128.613993</td>\n",
       "      <td>123.470619</td>\n",
       "      <td>-5.143374</td>\n",
       "      <td>gap plummets on earnings miss cuts fullyear fo...</td>\n",
       "      <td>negative</td>\n",
       "      <td>-1</td>\n",
       "    </tr>\n",
       "    <tr>\n",
       "      <th>2</th>\n",
       "      <td>2023-01-03</td>\n",
       "      <td>128.613993</td>\n",
       "      <td>123.470619</td>\n",
       "      <td>-5.143374</td>\n",
       "      <td>billionaire ken fisher is selling these 10 stocks</td>\n",
       "      <td>negative</td>\n",
       "      <td>-1</td>\n",
       "    </tr>\n",
       "    <tr>\n",
       "      <th>3</th>\n",
       "      <td>2023-01-03</td>\n",
       "      <td>128.613993</td>\n",
       "      <td>123.470619</td>\n",
       "      <td>-5.143374</td>\n",
       "      <td>corning net income drops 13 shares fall</td>\n",
       "      <td>negative</td>\n",
       "      <td>-1</td>\n",
       "    </tr>\n",
       "    <tr>\n",
       "      <th>4</th>\n",
       "      <td>2023-01-03</td>\n",
       "      <td>128.613993</td>\n",
       "      <td>123.470619</td>\n",
       "      <td>-5.143374</td>\n",
       "      <td>internet explorer shutdown to cause japan prob...</td>\n",
       "      <td>negative</td>\n",
       "      <td>-1</td>\n",
       "    </tr>\n",
       "  </tbody>\n",
       "</table>\n",
       "</div>"
      ],
      "text/plain": [
       "         date        open       close  movement  \\\n",
       "0  2023-01-03  128.613993  123.470619 -5.143374   \n",
       "1  2023-01-03  128.613993  123.470619 -5.143374   \n",
       "2  2023-01-03  128.613993  123.470619 -5.143374   \n",
       "3  2023-01-03  128.613993  123.470619 -5.143374   \n",
       "4  2023-01-03  128.613993  123.470619 -5.143374   \n",
       "\n",
       "                                            headline     label  label_num  \n",
       "0  markets close mostly lower again rost panw rep...  negative         -1  \n",
       "1  gap plummets on earnings miss cuts fullyear fo...  negative         -1  \n",
       "2  billionaire ken fisher is selling these 10 stocks  negative         -1  \n",
       "3            corning net income drops 13 shares fall  negative         -1  \n",
       "4  internet explorer shutdown to cause japan prob...  negative         -1  "
      ]
     },
     "execution_count": 5,
     "metadata": {},
     "output_type": "execute_result"
    }
   ],
   "source": [
    "aapl_df = pd.read_csv(\"data/formatted_csv/AAPL_merged.csv\")\n",
    "amzn_df = pd.read_csv(\"data/formatted_csv/AMZN_merged.csv\")\n",
    "msft_df = pd.read_csv(\"data/formatted_csv/MSFT_merged.csv\")\n",
    "tsla_df = pd.read_csv(\"data/formatted_csv/TSLA_merged.csv\")\n",
    "\n",
    "df = pd.concat([aapl_df, amzn_df])\n",
    "df = pd.concat([df, msft_df])\n",
    "df = pd.concat([df, tsla_df])\n",
    "\n",
    "df.head()"
   ]
  },
  {
   "cell_type": "code",
   "execution_count": 6,
   "id": "22573774",
   "metadata": {},
   "outputs": [
    {
     "data": {
      "text/plain": [
       "(104000, 7)"
      ]
     },
     "execution_count": 6,
     "metadata": {},
     "output_type": "execute_result"
    }
   ],
   "source": [
    "df.shape"
   ]
  },
  {
   "cell_type": "code",
   "execution_count": 7,
   "id": "a61f4518",
   "metadata": {},
   "outputs": [
    {
     "data": {
      "text/plain": [
       "Index(['date', 'open', 'close', 'movement', 'headline', 'label', 'label_num'], dtype='object')"
      ]
     },
     "execution_count": 7,
     "metadata": {},
     "output_type": "execute_result"
    }
   ],
   "source": [
    "df.columns"
   ]
  },
  {
   "cell_type": "code",
   "execution_count": 8,
   "id": "ffb70066",
   "metadata": {},
   "outputs": [
    {
     "data": {
      "text/plain": [
       "[{'date': '2023-01-03',\n",
       "  'open': 128.61399342864948,\n",
       "  'close': 123.47061920166016,\n",
       "  'movement': -5.143374226989323,\n",
       "  'headline': 'markets close mostly lower again rost panw report earnings',\n",
       "  'label': 'negative',\n",
       "  'label_num': -1},\n",
       " {'date': '2023-01-03',\n",
       "  'open': 128.61399342864948,\n",
       "  'close': 123.47061920166016,\n",
       "  'movement': -5.143374226989323,\n",
       "  'headline': 'gap plummets on earnings miss cuts fullyear forecast',\n",
       "  'label': 'negative',\n",
       "  'label_num': -1}]"
      ]
     },
     "execution_count": 8,
     "metadata": {},
     "output_type": "execute_result"
    }
   ],
   "source": [
    "df.to_dict(\"records\")[:2]"
   ]
  },
  {
   "cell_type": "code",
   "execution_count": 9,
   "id": "808a1b08",
   "metadata": {},
   "outputs": [
    {
     "name": "stderr",
     "output_type": "stream",
     "text": [
      "[nltk_data] Downloading package vader_lexicon to\n",
      "[nltk_data]     /Users/varshinibalaji/nltk_data...\n",
      "[nltk_data]   Package vader_lexicon is already up-to-date!\n"
     ]
    },
    {
     "data": {
      "text/plain": [
       "True"
      ]
     },
     "execution_count": 9,
     "metadata": {},
     "output_type": "execute_result"
    }
   ],
   "source": [
    "import nltk\n",
    "from nltk.sentiment.vader import SentimentIntensityAnalyzer\n",
    "\n",
    "nltk.download('vader_lexicon')"
   ]
  },
  {
   "cell_type": "code",
   "execution_count": 10,
   "id": "631063c5",
   "metadata": {},
   "outputs": [
    {
     "name": "stderr",
     "output_type": "stream",
     "text": [
      "100%|██████████| 104000/104000 [00:09<00:00, 11164.18it/s]\n"
     ]
    }
   ],
   "source": [
    "from tqdm import tqdm\n",
    "\n",
    "vader = SentimentIntensityAnalyzer()\n",
    "\n",
    "def map_sentiment(score, label):\n",
    "    # score ranges [-1, 1]\n",
    "    if label == \"negative\":\n",
    "        # scaling -ve scores to [-5, -1]\n",
    "        return -5 + 4 * (score + 1) / 1 \n",
    "    else:\n",
    "        return 1 + 4 * score / 1  # scaling score to 1 → 5\n",
    "\n",
    "records = df.to_dict(\"records\")\n",
    "results = []\n",
    "\n",
    "for record in tqdm(records):\n",
    "    text = record[\"headline\"]\n",
    "    label = record[\"label\"]\n",
    "    \n",
    "    # vader sentiment analysis\n",
    "    sentiment_scores = vader.polarity_scores(text)\n",
    "    compound = sentiment_scores[\"compound\"]\n",
    "    \n",
    "    # scale vader score to -5 to -1 and 1 to 5\n",
    "    sentiment_score = map_sentiment(compound, label)\n",
    "    \n",
    "    results.append({\"headline\": text, \"vader_compound\": compound, \"custom_score\": sentiment_score})"
   ]
  },
  {
   "cell_type": "code",
   "execution_count": 11,
   "id": "d483ba21",
   "metadata": {},
   "outputs": [],
   "source": [
    "results_df = pd.DataFrame(results)"
   ]
  },
  {
   "cell_type": "code",
   "execution_count": 12,
   "id": "dcaca5bf",
   "metadata": {},
   "outputs": [
    {
     "data": {
      "text/plain": [
       "count    104000.000000\n",
       "mean          1.133785\n",
       "std           1.609657\n",
       "min          -4.533600\n",
       "25%           1.000000\n",
       "50%           1.000000\n",
       "75%           2.272800\n",
       "max           4.851200\n",
       "Name: custom_score, dtype: float64"
      ]
     },
     "execution_count": 12,
     "metadata": {},
     "output_type": "execute_result"
    }
   ],
   "source": [
    "results_df['custom_score'].describe()"
   ]
  },
  {
   "cell_type": "markdown",
   "id": "f71973ab",
   "metadata": {},
   "source": [
    "Using BERT to perform sentiment classification"
   ]
  },
  {
   "cell_type": "code",
   "execution_count": 13,
   "id": "8dba2ddd",
   "metadata": {},
   "outputs": [],
   "source": [
    "import transformers\n",
    "from transformers import BertModel, BertTokenizer, get_linear_schedule_with_warmup\n",
    "from torch.optim import AdamW\n",
    "import torch\n",
    "from torch import nn, optim\n",
    "from torch.utils.data import Dataset, DataLoader\n"
   ]
  },
  {
   "cell_type": "code",
   "execution_count": 14,
   "id": "26f1243a",
   "metadata": {},
   "outputs": [],
   "source": [
    "# Set the model name\n",
    "MODEL_NAME = 'bert-base-cased'\n",
    "\n",
    "# Build a BERT based tokenizer\n",
    "tokenizer = BertTokenizer.from_pretrained(MODEL_NAME)"
   ]
  },
  {
   "cell_type": "code",
   "execution_count": 15,
   "id": "c5fd8395",
   "metadata": {},
   "outputs": [],
   "source": [
    "tokenizer = BertTokenizer.from_pretrained('bert-base-uncased')\n",
    "\n",
    "# Tokenize the data\n",
    "def tokenize_function(text):\n",
    "    return tokenizer(text, padding='max_length', truncation=True, max_length=128)\n",
    "\n",
    "data = results_df\n",
    "data['tokenized'] = data['headline'].apply(tokenize_function)"
   ]
  },
  {
   "cell_type": "markdown",
   "id": "4e200863",
   "metadata": {},
   "source": [
    "Using `https://huggingface.co/nlptown/bert-base-multilingual-uncased-sentiment` for sentiment scoring - which is finetuned on thousands of product review to predict sentiment - with labels"
   ]
  },
  {
   "cell_type": "code",
   "execution_count": 130,
   "id": "cc2ad631",
   "metadata": {},
   "outputs": [
    {
     "name": "stdout",
     "output_type": "stream",
     "text": [
      "Score: 1.05\n"
     ]
    }
   ],
   "source": [
    "from transformers import AutoTokenizer, AutoModelForSequenceClassification\n",
    "import torch\n",
    "import torch.nn.functional as F\n",
    "\n",
    "model_name = \"nlptown/bert-base-multilingual-uncased-sentiment\"\n",
    "tokenizer = AutoTokenizer.from_pretrained(model_name)\n",
    "model = AutoModelForSequenceClassification.from_pretrained(model_name)\n",
    "\n",
    "def get_sentiment_score(text):\n",
    "    inputs = tokenizer(text, return_tensors=\"pt\", truncation=True)\n",
    "    outputs = model(**inputs)\n",
    "    probs = F.softmax(outputs.logits, dim=1)\n",
    "    stars = torch.arange(1, 6)  # 1 to 5 stars\n",
    "    rating = torch.sum(probs * stars, dim=1).item()  # Expected value\n",
    "    # Map 1–5 stars to -5 to +5\n",
    "    # return (rating - 3) * 2.5  # e.g., 1→-5, 3→0, 5→+5\n",
    "    return rating\n",
    "\n",
    "\n",
    "# Test\n",
    "text = \"this is the worst thing in the world\"\n",
    "score = get_sentiment_score(text)\n",
    "print(f\"Score: {score:.2f}\")"
   ]
  },
  {
   "cell_type": "code",
   "execution_count": 133,
   "id": "e54706b5",
   "metadata": {},
   "outputs": [],
   "source": [
    "results_df.drop_duplicates(\"headline\", inplace = True)"
   ]
  },
  {
   "cell_type": "code",
   "execution_count": 134,
   "id": "2412fabb",
   "metadata": {},
   "outputs": [
    {
     "name": "stderr",
     "output_type": "stream",
     "text": [
      "Scoring headlines: 100%|██████████| 25936/25936 [35:05<00:00, 12.32it/s]   \n"
     ]
    }
   ],
   "source": [
    "from tqdm import tqdm\n",
    "import polars as pl\n",
    "\n",
    "results_pdf = pl.from_pandas(results_df[['headline']])\n",
    "\n",
    "# Config\n",
    "CHECKPOINT_EVERY = 1000\n",
    "OUT_DIR = \"results2\"\n",
    "\n",
    "# Convert to list\n",
    "headlines = results_pdf[\"headline\"].to_list()\n",
    "scores = []\n",
    "\n",
    "# Process row-by-row with progress\n",
    "for i, h in enumerate(tqdm(headlines, desc=\"Scoring headlines\")):\n",
    "    scores.append(get_sentiment_score(h))\n",
    "\n",
    "    # Every N rows: checkpoint\n",
    "    if (i + 1) % CHECKPOINT_EVERY == 0 or (i + 1) == len(headlines):\n",
    "        partial_df = results_pdf[:i+1].with_columns(pl.Series(\"score\", scores))\n",
    "        partial_df.write_parquet(f\"{OUT_DIR}/sentiment_progress_up_to_row_{i+1}.parquet\")"
   ]
  },
  {
   "cell_type": "code",
   "execution_count": null,
   "id": "7a64fc86",
   "metadata": {},
   "outputs": [
    {
     "name": "stderr",
     "output_type": "stream",
     "text": [
      "Scoring headlines: 100%|██████████| 104000/104000 [3:53:01<00:00,  7.44it/s]\n"
     ]
    }
   ],
   "source": [
    "from tqdm import tqdm\n",
    "import polars as pl\n",
    "\n",
    "results_pdf = pl.from_pandas(results_df[['headline']])\n",
    "\n",
    "# Config\n",
    "CHECKPOINT_EVERY = 1000\n",
    "OUT_DIR = \"results2\"\n",
    "\n",
    "# Convert to list\n",
    "headlines = results_pdf[\"headline\"].to_list()\n",
    "scores = []\n",
    "\n",
    "# Process row-by-row with progress\n",
    "for i, h in enumerate(tqdm(headlines, desc=\"Scoring headlines\")):\n",
    "    scores.append(get_sentiment_score(h))\n",
    "\n",
    "    # Every N rows: checkpoint\n",
    "    if (i + 1) % CHECKPOINT_EVERY == 0 or (i + 1) == len(headlines):\n",
    "        partial_df = results_pdf[:i+1].with_columns(pl.Series(\"score\", scores))\n",
    "        partial_df.write_parquet(f\"{OUT_DIR}/sentiment_progress_up_to_row_{i+1}.parquet\")"
   ]
  },
  {
   "cell_type": "code",
   "execution_count": 60,
   "id": "e02d39e2",
   "metadata": {},
   "outputs": [],
   "source": [
    "df.drop_duplicates([\"headline\", \"label\"], inplace=True)"
   ]
  },
  {
   "cell_type": "code",
   "execution_count": 61,
   "id": "92468002",
   "metadata": {},
   "outputs": [
    {
     "data": {
      "text/plain": [
       "(25948, 7)"
      ]
     },
     "execution_count": 61,
     "metadata": {},
     "output_type": "execute_result"
    }
   ],
   "source": [
    "results_pdf = pl.from_pandas(df)\n",
    "results_pdf.shape"
   ]
  },
  {
   "cell_type": "code",
   "execution_count": 63,
   "id": "aec25ad6",
   "metadata": {},
   "outputs": [
    {
     "data": {
      "text/plain": [
       "(25936, 2)"
      ]
     },
     "execution_count": 63,
     "metadata": {},
     "output_type": "execute_result"
    }
   ],
   "source": [
    "bert_score_df = partial_df.unique(subset=[\"headline\"])\n",
    "bert_score_df.shape"
   ]
  },
  {
   "cell_type": "code",
   "execution_count": 67,
   "id": "e761296b",
   "metadata": {},
   "outputs": [
    {
     "data": {
      "text/html": [
       "<div><style>\n",
       ".dataframe > thead > tr,\n",
       ".dataframe > tbody > tr {\n",
       "  text-align: right;\n",
       "  white-space: pre-wrap;\n",
       "}\n",
       "</style>\n",
       "<small>shape: (25_936, 2)</small><table border=\"1\" class=\"dataframe\"><thead><tr><th>headline</th><th>score</th></tr><tr><td>str</td><td>f64</td></tr></thead><tbody><tr><td>&quot;is weakness in archerdanielsmi…</td><td>-2.910015</td></tr><tr><td>&quot;resonant capital advisors llc …</td><td>-1.584835</td></tr><tr><td>&quot;carnegie mellon university ele…</td><td>1.900832</td></tr><tr><td>&quot;iron mountain irm outpaces sto…</td><td>3.282338</td></tr><tr><td>&quot;initial claims drop to 52year …</td><td>-1.15844</td></tr><tr><td>&hellip;</td><td>&hellip;</td></tr><tr><td>&quot;apple aapl boosts content port…</td><td>3.528634</td></tr><tr><td>&quot;dte energy dte q1 earnings sur…</td><td>0.934064</td></tr><tr><td>&quot;ge completes engine test with …</td><td>3.619068</td></tr><tr><td>&quot;scoop up 3 trucking stocks wit…</td><td>3.345572</td></tr><tr><td>&quot;autodesk adsk stock moves 0.1 …</td><td>0.450619</td></tr></tbody></table></div>"
      ],
      "text/plain": [
       "shape: (25_936, 2)\n",
       "┌─────────────────────────────────┬───────────┐\n",
       "│ headline                        ┆ score     │\n",
       "│ ---                             ┆ ---       │\n",
       "│ str                             ┆ f64       │\n",
       "╞═════════════════════════════════╪═══════════╡\n",
       "│ is weakness in archerdanielsmi… ┆ -2.910015 │\n",
       "│ resonant capital advisors llc … ┆ -1.584835 │\n",
       "│ carnegie mellon university ele… ┆ 1.900832  │\n",
       "│ iron mountain irm outpaces sto… ┆ 3.282338  │\n",
       "│ initial claims drop to 52year … ┆ -1.15844  │\n",
       "│ …                               ┆ …         │\n",
       "│ apple aapl boosts content port… ┆ 3.528634  │\n",
       "│ dte energy dte q1 earnings sur… ┆ 0.934064  │\n",
       "│ ge completes engine test with … ┆ 3.619068  │\n",
       "│ scoop up 3 trucking stocks wit… ┆ 3.345572  │\n",
       "│ autodesk adsk stock moves 0.1 … ┆ 0.450619  │\n",
       "└─────────────────────────────────┴───────────┘"
      ]
     },
     "execution_count": 67,
     "metadata": {},
     "output_type": "execute_result"
    }
   ],
   "source": [
    "bert_score_df"
   ]
  },
  {
   "cell_type": "code",
   "execution_count": 64,
   "id": "f418a8a3",
   "metadata": {},
   "outputs": [],
   "source": [
    "results_merged_pdf = results_pdf.join(bert_score_df, on=\"headline\", how=\"inner\")"
   ]
  },
  {
   "cell_type": "code",
   "execution_count": 68,
   "id": "f19b2ca0",
   "metadata": {},
   "outputs": [
    {
     "data": {
      "text/html": [
       "<div><style>\n",
       ".dataframe > thead > tr,\n",
       ".dataframe > tbody > tr {\n",
       "  text-align: right;\n",
       "  white-space: pre-wrap;\n",
       "}\n",
       "</style>\n",
       "<small>shape: (25_948, 8)</small><table border=\"1\" class=\"dataframe\"><thead><tr><th>date</th><th>open</th><th>close</th><th>movement</th><th>headline</th><th>label</th><th>label_num</th><th>score</th></tr><tr><td>str</td><td>f64</td><td>f64</td><td>f64</td><td>str</td><td>str</td><td>i64</td><td>f64</td></tr></thead><tbody><tr><td>&quot;2023-01-03&quot;</td><td>128.613993</td><td>123.470619</td><td>-5.143374</td><td>&quot;markets close mostly lower aga…</td><td>&quot;negative&quot;</td><td>-1</td><td>-2.399095</td></tr><tr><td>&quot;2023-01-03&quot;</td><td>128.613993</td><td>123.470619</td><td>-5.143374</td><td>&quot;gap plummets on earnings miss …</td><td>&quot;negative&quot;</td><td>-1</td><td>-1.685511</td></tr><tr><td>&quot;2023-01-03&quot;</td><td>128.613993</td><td>123.470619</td><td>-5.143374</td><td>&quot;billionaire ken fisher is sell…</td><td>&quot;negative&quot;</td><td>-1</td><td>2.723448</td></tr><tr><td>&quot;2023-01-03&quot;</td><td>128.613993</td><td>123.470619</td><td>-5.143374</td><td>&quot;corning net income drops 13 sh…</td><td>&quot;negative&quot;</td><td>-1</td><td>-3.525082</td></tr><tr><td>&quot;2023-01-03&quot;</td><td>128.613993</td><td>123.470619</td><td>-5.143374</td><td>&quot;internet explorer shutdown to …</td><td>&quot;negative&quot;</td><td>-1</td><td>-3.467552</td></tr><tr><td>&hellip;</td><td>&hellip;</td><td>&hellip;</td><td>&hellip;</td><td>&hellip;</td><td>&hellip;</td><td>&hellip;</td><td>&hellip;</td></tr><tr><td>&quot;2024-05-28&quot;</td><td>190.618535</td><td>189.105621</td><td>-1.512914</td><td>&quot;boston scientific bsx q1 earni…</td><td>&quot;positive&quot;</td><td>1</td><td>4.128368</td></tr><tr><td>&quot;2024-05-28&quot;</td><td>190.618535</td><td>189.105621</td><td>-1.512914</td><td>&quot;producer sentiment improves wi…</td><td>&quot;positive&quot;</td><td>1</td><td>-0.269502</td></tr><tr><td>&quot;2024-05-28&quot;</td><td>190.618535</td><td>189.105621</td><td>-1.512914</td><td>&quot;equinix declares quarterly div…</td><td>&quot;positive&quot;</td><td>1</td><td>-0.087903</td></tr><tr><td>&quot;2024-05-28&quot;</td><td>190.618535</td><td>189.105621</td><td>-1.512914</td><td>&quot;featurelove island dumps fast …</td><td>&quot;positive&quot;</td><td>1</td><td>0.549356</td></tr><tr><td>&quot;2024-05-28&quot;</td><td>190.618535</td><td>189.105621</td><td>-1.512914</td><td>&quot;after plunging 15.5 in 4 weeks…</td><td>&quot;positive&quot;</td><td>1</td><td>-2.311001</td></tr></tbody></table></div>"
      ],
      "text/plain": [
       "shape: (25_948, 8)\n",
       "┌────────────┬────────────┬────────────┬───────────┬────────────┬──────────┬───────────┬───────────┐\n",
       "│ date       ┆ open       ┆ close      ┆ movement  ┆ headline   ┆ label    ┆ label_num ┆ score     │\n",
       "│ ---        ┆ ---        ┆ ---        ┆ ---       ┆ ---        ┆ ---      ┆ ---       ┆ ---       │\n",
       "│ str        ┆ f64        ┆ f64        ┆ f64       ┆ str        ┆ str      ┆ i64       ┆ f64       │\n",
       "╞════════════╪════════════╪════════════╪═══════════╪════════════╪══════════╪═══════════╪═══════════╡\n",
       "│ 2023-01-03 ┆ 128.613993 ┆ 123.470619 ┆ -5.143374 ┆ markets    ┆ negative ┆ -1        ┆ -2.399095 │\n",
       "│            ┆            ┆            ┆           ┆ close      ┆          ┆           ┆           │\n",
       "│            ┆            ┆            ┆           ┆ mostly     ┆          ┆           ┆           │\n",
       "│            ┆            ┆            ┆           ┆ lower aga… ┆          ┆           ┆           │\n",
       "│ 2023-01-03 ┆ 128.613993 ┆ 123.470619 ┆ -5.143374 ┆ gap        ┆ negative ┆ -1        ┆ -1.685511 │\n",
       "│            ┆            ┆            ┆           ┆ plummets   ┆          ┆           ┆           │\n",
       "│            ┆            ┆            ┆           ┆ on         ┆          ┆           ┆           │\n",
       "│            ┆            ┆            ┆           ┆ earnings   ┆          ┆           ┆           │\n",
       "│            ┆            ┆            ┆           ┆ miss …     ┆          ┆           ┆           │\n",
       "│ 2023-01-03 ┆ 128.613993 ┆ 123.470619 ┆ -5.143374 ┆ billionair ┆ negative ┆ -1        ┆ 2.723448  │\n",
       "│            ┆            ┆            ┆           ┆ e ken      ┆          ┆           ┆           │\n",
       "│            ┆            ┆            ┆           ┆ fisher is  ┆          ┆           ┆           │\n",
       "│            ┆            ┆            ┆           ┆ sell…      ┆          ┆           ┆           │\n",
       "│ 2023-01-03 ┆ 128.613993 ┆ 123.470619 ┆ -5.143374 ┆ corning    ┆ negative ┆ -1        ┆ -3.525082 │\n",
       "│            ┆            ┆            ┆           ┆ net income ┆          ┆           ┆           │\n",
       "│            ┆            ┆            ┆           ┆ drops 13   ┆          ┆           ┆           │\n",
       "│            ┆            ┆            ┆           ┆ sh…        ┆          ┆           ┆           │\n",
       "│ 2023-01-03 ┆ 128.613993 ┆ 123.470619 ┆ -5.143374 ┆ internet   ┆ negative ┆ -1        ┆ -3.467552 │\n",
       "│            ┆            ┆            ┆           ┆ explorer   ┆          ┆           ┆           │\n",
       "│            ┆            ┆            ┆           ┆ shutdown   ┆          ┆           ┆           │\n",
       "│            ┆            ┆            ┆           ┆ to …       ┆          ┆           ┆           │\n",
       "│ …          ┆ …          ┆ …          ┆ …         ┆ …          ┆ …        ┆ …         ┆ …         │\n",
       "│ 2024-05-28 ┆ 190.618535 ┆ 189.105621 ┆ -1.512914 ┆ boston     ┆ positive ┆ 1         ┆ 4.128368  │\n",
       "│            ┆            ┆            ┆           ┆ scientific ┆          ┆           ┆           │\n",
       "│            ┆            ┆            ┆           ┆ bsx q1     ┆          ┆           ┆           │\n",
       "│            ┆            ┆            ┆           ┆ earni…     ┆          ┆           ┆           │\n",
       "│ 2024-05-28 ┆ 190.618535 ┆ 189.105621 ┆ -1.512914 ┆ producer   ┆ positive ┆ 1         ┆ -0.269502 │\n",
       "│            ┆            ┆            ┆           ┆ sentiment  ┆          ┆           ┆           │\n",
       "│            ┆            ┆            ┆           ┆ improves   ┆          ┆           ┆           │\n",
       "│            ┆            ┆            ┆           ┆ wi…        ┆          ┆           ┆           │\n",
       "│ 2024-05-28 ┆ 190.618535 ┆ 189.105621 ┆ -1.512914 ┆ equinix    ┆ positive ┆ 1         ┆ -0.087903 │\n",
       "│            ┆            ┆            ┆           ┆ declares   ┆          ┆           ┆           │\n",
       "│            ┆            ┆            ┆           ┆ quarterly  ┆          ┆           ┆           │\n",
       "│            ┆            ┆            ┆           ┆ div…       ┆          ┆           ┆           │\n",
       "│ 2024-05-28 ┆ 190.618535 ┆ 189.105621 ┆ -1.512914 ┆ featurelov ┆ positive ┆ 1         ┆ 0.549356  │\n",
       "│            ┆            ┆            ┆           ┆ e island   ┆          ┆           ┆           │\n",
       "│            ┆            ┆            ┆           ┆ dumps fast ┆          ┆           ┆           │\n",
       "│            ┆            ┆            ┆           ┆ …          ┆          ┆           ┆           │\n",
       "│ 2024-05-28 ┆ 190.618535 ┆ 189.105621 ┆ -1.512914 ┆ after      ┆ positive ┆ 1         ┆ -2.311001 │\n",
       "│            ┆            ┆            ┆           ┆ plunging   ┆          ┆           ┆           │\n",
       "│            ┆            ┆            ┆           ┆ 15.5 in 4  ┆          ┆           ┆           │\n",
       "│            ┆            ┆            ┆           ┆ weeks…     ┆          ┆           ┆           │\n",
       "└────────────┴────────────┴────────────┴───────────┴────────────┴──────────┴───────────┴───────────┘"
      ]
     },
     "execution_count": 68,
     "metadata": {},
     "output_type": "execute_result"
    }
   ],
   "source": [
    "results_merged_pdf"
   ]
  },
  {
   "cell_type": "code",
   "execution_count": 102,
   "id": "231535e8",
   "metadata": {},
   "outputs": [
    {
     "data": {
      "text/plain": [
       "5\n",
       "negative     4802\n",
       "neutral      8725\n",
       "positive    12421\n",
       "dtype: int64"
      ]
     },
     "execution_count": 102,
     "metadata": {},
     "output_type": "execute_result"
    }
   ],
   "source": [
    "pd.DataFrame(results_merged_pdf).groupby(5).size()"
   ]
  },
  {
   "cell_type": "code",
   "execution_count": 84,
   "id": "de2f279a",
   "metadata": {},
   "outputs": [
    {
     "name": "stdout",
     "output_type": "stream",
     "text": [
      "['date', 'open', 'close', 'movement', 'headline', 'label', 'label_num', 'score', 'positive_score']\n"
     ]
    },
    {
     "name": "stderr",
     "output_type": "stream",
     "text": [
      "/var/folders/5p/k025km096tndpdfzbd0mhr8c0000gn/T/ipykernel_12608/2615282412.py:11: DeprecationWarning: `pl.count()` is deprecated. Please use `pl.len()` instead.\n",
      "(Deprecated in version 0.20.5)\n",
      "  pl.count().alias(\"count\"),\n"
     ]
    }
   ],
   "source": [
    "df2 = results_merged_pdf.with_columns(\n",
    "    (pl.col(\"score\") > 0).alias(\"positive_score\")\n",
    ")\n",
    "print(df2.columns)  # now includes “positive_score”\n",
    "\n",
    "\n",
    "grouped_df = (\n",
    "    df2\n",
    "    .group_by([\"label\", \"positive_score\"])\n",
    "    .agg([\n",
    "        pl.count().alias(\"count\"),\n",
    "        pl.col(\"score\").mean().alias(\"avg_score\")\n",
    "    ])\n",
    ")"
   ]
  },
  {
   "cell_type": "code",
   "execution_count": 97,
   "id": "a0996a0c",
   "metadata": {},
   "outputs": [
    {
     "data": {
      "text/html": [
       "<div><style>\n",
       ".dataframe > thead > tr,\n",
       ".dataframe > tbody > tr {\n",
       "  text-align: right;\n",
       "  white-space: pre-wrap;\n",
       "}\n",
       "</style>\n",
       "<small>shape: (6, 4)</small><table border=\"1\" class=\"dataframe\"><thead><tr><th>label</th><th>positive_score</th><th>count</th><th>avg_score</th></tr><tr><td>str</td><td>bool</td><td>u32</td><td>f64</td></tr></thead><tbody><tr><td>&quot;positive&quot;</td><td>true</td><td>8905</td><td>2.31511</td></tr><tr><td>&quot;negative&quot;</td><td>false</td><td>3601</td><td>-2.20482</td></tr><tr><td>&quot;negative&quot;</td><td>true</td><td>1201</td><td>1.827105</td></tr><tr><td>&quot;neutral&quot;</td><td>false</td><td>1991</td><td>-1.575204</td></tr><tr><td>&quot;neutral&quot;</td><td>true</td><td>6734</td><td>2.712473</td></tr><tr><td>&quot;positive&quot;</td><td>false</td><td>3516</td><td>-1.572661</td></tr></tbody></table></div>"
      ],
      "text/plain": [
       "shape: (6, 4)\n",
       "┌──────────┬────────────────┬───────┬───────────┐\n",
       "│ label    ┆ positive_score ┆ count ┆ avg_score │\n",
       "│ ---      ┆ ---            ┆ ---   ┆ ---       │\n",
       "│ str      ┆ bool           ┆ u32   ┆ f64       │\n",
       "╞══════════╪════════════════╪═══════╪═══════════╡\n",
       "│ positive ┆ true           ┆ 8905  ┆ 2.31511   │\n",
       "│ negative ┆ false          ┆ 3601  ┆ -2.20482  │\n",
       "│ negative ┆ true           ┆ 1201  ┆ 1.827105  │\n",
       "│ neutral  ┆ false          ┆ 1991  ┆ -1.575204 │\n",
       "│ neutral  ┆ true           ┆ 6734  ┆ 2.712473  │\n",
       "│ positive ┆ false          ┆ 3516  ┆ -1.572661 │\n",
       "└──────────┴────────────────┴───────┴───────────┘"
      ]
     },
     "execution_count": 97,
     "metadata": {},
     "output_type": "execute_result"
    }
   ],
   "source": [
    "grouped_df"
   ]
  },
  {
   "cell_type": "code",
   "execution_count": 108,
   "id": "f22a86e6",
   "metadata": {},
   "outputs": [
    {
     "data": {
      "text/html": [
       "<div>\n",
       "<style scoped>\n",
       "    .dataframe tbody tr th:only-of-type {\n",
       "        vertical-align: middle;\n",
       "    }\n",
       "\n",
       "    .dataframe tbody tr th {\n",
       "        vertical-align: top;\n",
       "    }\n",
       "\n",
       "    .dataframe thead th {\n",
       "        text-align: right;\n",
       "    }\n",
       "</style>\n",
       "<table border=\"1\" class=\"dataframe\">\n",
       "  <thead>\n",
       "    <tr style=\"text-align: right;\">\n",
       "      <th></th>\n",
       "      <th>headline</th>\n",
       "      <th>vader_compound</th>\n",
       "      <th>vader_score</th>\n",
       "      <th>tokenized</th>\n",
       "    </tr>\n",
       "  </thead>\n",
       "  <tbody>\n",
       "    <tr>\n",
       "      <th>0</th>\n",
       "      <td>markets close mostly lower again rost panw rep...</td>\n",
       "      <td>-0.2960</td>\n",
       "      <td>-2.1840</td>\n",
       "      <td>[input_ids, token_type_ids, attention_mask]</td>\n",
       "    </tr>\n",
       "    <tr>\n",
       "      <th>1</th>\n",
       "      <td>gap plummets on earnings miss cuts fullyear fo...</td>\n",
       "      <td>-0.4215</td>\n",
       "      <td>-2.6860</td>\n",
       "      <td>[input_ids, token_type_ids, attention_mask]</td>\n",
       "    </tr>\n",
       "    <tr>\n",
       "      <th>2</th>\n",
       "      <td>billionaire ken fisher is selling these 10 stocks</td>\n",
       "      <td>0.0000</td>\n",
       "      <td>-1.0000</td>\n",
       "      <td>[input_ids, token_type_ids, attention_mask]</td>\n",
       "    </tr>\n",
       "    <tr>\n",
       "      <th>3</th>\n",
       "      <td>corning net income drops 13 shares fall</td>\n",
       "      <td>0.2960</td>\n",
       "      <td>0.1840</td>\n",
       "      <td>[input_ids, token_type_ids, attention_mask]</td>\n",
       "    </tr>\n",
       "    <tr>\n",
       "      <th>4</th>\n",
       "      <td>internet explorer shutdown to cause japan prob...</td>\n",
       "      <td>-0.4019</td>\n",
       "      <td>-2.6076</td>\n",
       "      <td>[input_ids, token_type_ids, attention_mask]</td>\n",
       "    </tr>\n",
       "  </tbody>\n",
       "</table>\n",
       "</div>"
      ],
      "text/plain": [
       "                                            headline  vader_compound  \\\n",
       "0  markets close mostly lower again rost panw rep...         -0.2960   \n",
       "1  gap plummets on earnings miss cuts fullyear fo...         -0.4215   \n",
       "2  billionaire ken fisher is selling these 10 stocks          0.0000   \n",
       "3            corning net income drops 13 shares fall          0.2960   \n",
       "4  internet explorer shutdown to cause japan prob...         -0.4019   \n",
       "\n",
       "   vader_score                                    tokenized  \n",
       "0      -2.1840  [input_ids, token_type_ids, attention_mask]  \n",
       "1      -2.6860  [input_ids, token_type_ids, attention_mask]  \n",
       "2      -1.0000  [input_ids, token_type_ids, attention_mask]  \n",
       "3       0.1840  [input_ids, token_type_ids, attention_mask]  \n",
       "4      -2.6076  [input_ids, token_type_ids, attention_mask]  "
      ]
     },
     "execution_count": 108,
     "metadata": {},
     "output_type": "execute_result"
    }
   ],
   "source": [
    "results_df.columns = ['headline', 'vader_compound', 'vader_score', 'tokenized']\n",
    "\n",
    "vader_df = results_df.copy()\n",
    "\n",
    "vader_df.head()"
   ]
  },
  {
   "cell_type": "code",
   "execution_count": 111,
   "id": "904fd433",
   "metadata": {},
   "outputs": [
    {
     "data": {
      "text/html": [
       "<div><style>\n",
       ".dataframe > thead > tr,\n",
       ".dataframe > tbody > tr {\n",
       "  text-align: right;\n",
       "  white-space: pre-wrap;\n",
       "}\n",
       "</style>\n",
       "<small>shape: (5, 2)</small><table border=\"1\" class=\"dataframe\"><thead><tr><th>headline</th><th>bert_score</th></tr><tr><td>str</td><td>f64</td></tr></thead><tbody><tr><td>&quot;is weakness in archerdanielsmi…</td><td>-2.910015</td></tr><tr><td>&quot;resonant capital advisors llc …</td><td>-1.584835</td></tr><tr><td>&quot;carnegie mellon university ele…</td><td>1.900832</td></tr><tr><td>&quot;iron mountain irm outpaces sto…</td><td>3.282338</td></tr><tr><td>&quot;initial claims drop to 52year …</td><td>-1.15844</td></tr></tbody></table></div>"
      ],
      "text/plain": [
       "shape: (5, 2)\n",
       "┌─────────────────────────────────┬────────────┐\n",
       "│ headline                        ┆ bert_score │\n",
       "│ ---                             ┆ ---        │\n",
       "│ str                             ┆ f64        │\n",
       "╞═════════════════════════════════╪════════════╡\n",
       "│ is weakness in archerdanielsmi… ┆ -2.910015  │\n",
       "│ resonant capital advisors llc … ┆ -1.584835  │\n",
       "│ carnegie mellon university ele… ┆ 1.900832   │\n",
       "│ iron mountain irm outpaces sto… ┆ 3.282338   │\n",
       "│ initial claims drop to 52year … ┆ -1.15844   │\n",
       "└─────────────────────────────────┴────────────┘"
      ]
     },
     "execution_count": 111,
     "metadata": {},
     "output_type": "execute_result"
    }
   ],
   "source": [
    "bert_score_df.columns = ['headline', 'bert_score']\n",
    "bert_score_df.head()"
   ]
  },
  {
   "cell_type": "code",
   "execution_count": 114,
   "id": "4cbab315",
   "metadata": {},
   "outputs": [],
   "source": [
    "bert_score_pdf = bert_score_df"
   ]
  },
  {
   "cell_type": "code",
   "execution_count": 117,
   "id": "ffa9dcf6",
   "metadata": {},
   "outputs": [
    {
     "data": {
      "text/html": [
       "<div>\n",
       "<style scoped>\n",
       "    .dataframe tbody tr th:only-of-type {\n",
       "        vertical-align: middle;\n",
       "    }\n",
       "\n",
       "    .dataframe tbody tr th {\n",
       "        vertical-align: top;\n",
       "    }\n",
       "\n",
       "    .dataframe thead th {\n",
       "        text-align: right;\n",
       "    }\n",
       "</style>\n",
       "<table border=\"1\" class=\"dataframe\">\n",
       "  <thead>\n",
       "    <tr style=\"text-align: right;\">\n",
       "      <th></th>\n",
       "      <th>headline</th>\n",
       "      <th>bert_score</th>\n",
       "    </tr>\n",
       "  </thead>\n",
       "  <tbody>\n",
       "    <tr>\n",
       "      <th>0</th>\n",
       "      <td>is weakness in archerdanielsmidland company ny...</td>\n",
       "      <td>-2.910015</td>\n",
       "    </tr>\n",
       "    <tr>\n",
       "      <th>1</th>\n",
       "      <td>resonant capital advisors llc buys marqeta inc...</td>\n",
       "      <td>-1.584835</td>\n",
       "    </tr>\n",
       "    <tr>\n",
       "      <th>2</th>\n",
       "      <td>carnegie mellon university elects ansys ceo aj...</td>\n",
       "      <td>1.900832</td>\n",
       "    </tr>\n",
       "    <tr>\n",
       "      <th>3</th>\n",
       "      <td>iron mountain irm outpaces stock market gains ...</td>\n",
       "      <td>3.282338</td>\n",
       "    </tr>\n",
       "    <tr>\n",
       "      <th>4</th>\n",
       "      <td>initial claims drop to 52year low top 5 staffi...</td>\n",
       "      <td>-1.15844</td>\n",
       "    </tr>\n",
       "  </tbody>\n",
       "</table>\n",
       "</div>"
      ],
      "text/plain": [
       "                                            headline bert_score\n",
       "0  is weakness in archerdanielsmidland company ny...  -2.910015\n",
       "1  resonant capital advisors llc buys marqeta inc...  -1.584835\n",
       "2  carnegie mellon university elects ansys ceo aj...   1.900832\n",
       "3  iron mountain irm outpaces stock market gains ...   3.282338\n",
       "4  initial claims drop to 52year low top 5 staffi...   -1.15844"
      ]
     },
     "execution_count": 117,
     "metadata": {},
     "output_type": "execute_result"
    }
   ],
   "source": [
    "bert_score_df = pd.DataFrame(bert_score_df)\n",
    "bert_score_df.columns = ['headline', 'bert_score']\n",
    "bert_score_df.head()"
   ]
  },
  {
   "cell_type": "code",
   "execution_count": 119,
   "id": "945f9973",
   "metadata": {},
   "outputs": [],
   "source": [
    "headline_sentiment_df = vader_df.merge(bert_score_df, on = \"headline\", how = \"inner\")"
   ]
  },
  {
   "cell_type": "markdown",
   "id": "492fcd0e",
   "metadata": {},
   "source": [
    "comparing vader score and bert score"
   ]
  },
  {
   "cell_type": "code",
   "execution_count": 121,
   "id": "ff3cfe60",
   "metadata": {},
   "outputs": [
    {
     "name": "stdout",
     "output_type": "stream",
     "text": [
      "62292\n",
      "15212\n",
      "20996\n",
      "5108\n"
     ]
    }
   ],
   "source": [
    "print(f\"{len(headline_sentiment_df.loc[((headline_sentiment_df['vader_score']>0)&(headline_sentiment_df['bert_score']>0))])}\")\n",
    "print(f\"{len(headline_sentiment_df.loc[((headline_sentiment_df['vader_score']<0)&(headline_sentiment_df['bert_score']<0))])}\")\n",
    "print(f\"{len(headline_sentiment_df.loc[((headline_sentiment_df['vader_score']>0)&(headline_sentiment_df['bert_score']<0))])}\")\n",
    "print(f\"{len(headline_sentiment_df.loc[((headline_sentiment_df['vader_score']<0)&(headline_sentiment_df['bert_score']>0))])}\")"
   ]
  },
  {
   "cell_type": "code",
   "execution_count": 124,
   "id": "9fbd8576",
   "metadata": {},
   "outputs": [
    {
     "data": {
      "text/html": [
       "<div>\n",
       "<style scoped>\n",
       "    .dataframe tbody tr th:only-of-type {\n",
       "        vertical-align: middle;\n",
       "    }\n",
       "\n",
       "    .dataframe tbody tr th {\n",
       "        vertical-align: top;\n",
       "    }\n",
       "\n",
       "    .dataframe thead th {\n",
       "        text-align: right;\n",
       "    }\n",
       "</style>\n",
       "<table border=\"1\" class=\"dataframe\">\n",
       "  <thead>\n",
       "    <tr style=\"text-align: right;\">\n",
       "      <th></th>\n",
       "      <th>date</th>\n",
       "      <th>open</th>\n",
       "      <th>close</th>\n",
       "      <th>movement</th>\n",
       "      <th>headline</th>\n",
       "      <th>label</th>\n",
       "      <th>label_num</th>\n",
       "    </tr>\n",
       "  </thead>\n",
       "  <tbody>\n",
       "    <tr>\n",
       "      <th>0</th>\n",
       "      <td>2023-01-03</td>\n",
       "      <td>128.613993</td>\n",
       "      <td>123.470619</td>\n",
       "      <td>-5.143374</td>\n",
       "      <td>markets close mostly lower again rost panw rep...</td>\n",
       "      <td>negative</td>\n",
       "      <td>-1</td>\n",
       "    </tr>\n",
       "    <tr>\n",
       "      <th>1</th>\n",
       "      <td>2023-01-03</td>\n",
       "      <td>128.613993</td>\n",
       "      <td>123.470619</td>\n",
       "      <td>-5.143374</td>\n",
       "      <td>gap plummets on earnings miss cuts fullyear fo...</td>\n",
       "      <td>negative</td>\n",
       "      <td>-1</td>\n",
       "    </tr>\n",
       "    <tr>\n",
       "      <th>2</th>\n",
       "      <td>2023-01-03</td>\n",
       "      <td>128.613993</td>\n",
       "      <td>123.470619</td>\n",
       "      <td>-5.143374</td>\n",
       "      <td>billionaire ken fisher is selling these 10 stocks</td>\n",
       "      <td>negative</td>\n",
       "      <td>-1</td>\n",
       "    </tr>\n",
       "    <tr>\n",
       "      <th>3</th>\n",
       "      <td>2023-01-03</td>\n",
       "      <td>128.613993</td>\n",
       "      <td>123.470619</td>\n",
       "      <td>-5.143374</td>\n",
       "      <td>corning net income drops 13 shares fall</td>\n",
       "      <td>negative</td>\n",
       "      <td>-1</td>\n",
       "    </tr>\n",
       "    <tr>\n",
       "      <th>4</th>\n",
       "      <td>2023-01-03</td>\n",
       "      <td>128.613993</td>\n",
       "      <td>123.470619</td>\n",
       "      <td>-5.143374</td>\n",
       "      <td>internet explorer shutdown to cause japan prob...</td>\n",
       "      <td>negative</td>\n",
       "      <td>-1</td>\n",
       "    </tr>\n",
       "  </tbody>\n",
       "</table>\n",
       "</div>"
      ],
      "text/plain": [
       "         date        open       close  movement  \\\n",
       "0  2023-01-03  128.613993  123.470619 -5.143374   \n",
       "1  2023-01-03  128.613993  123.470619 -5.143374   \n",
       "2  2023-01-03  128.613993  123.470619 -5.143374   \n",
       "3  2023-01-03  128.613993  123.470619 -5.143374   \n",
       "4  2023-01-03  128.613993  123.470619 -5.143374   \n",
       "\n",
       "                                            headline     label  label_num  \n",
       "0  markets close mostly lower again rost panw rep...  negative         -1  \n",
       "1  gap plummets on earnings miss cuts fullyear fo...  negative         -1  \n",
       "2  billionaire ken fisher is selling these 10 stocks  negative         -1  \n",
       "3            corning net income drops 13 shares fall  negative         -1  \n",
       "4  internet explorer shutdown to cause japan prob...  negative         -1  "
      ]
     },
     "execution_count": 124,
     "metadata": {},
     "output_type": "execute_result"
    }
   ],
   "source": [
    "df.head()"
   ]
  },
  {
   "cell_type": "code",
   "execution_count": 127,
   "id": "dfdf9a9f",
   "metadata": {},
   "outputs": [
    {
     "data": {
      "text/html": [
       "<div>\n",
       "<style scoped>\n",
       "    .dataframe tbody tr th:only-of-type {\n",
       "        vertical-align: middle;\n",
       "    }\n",
       "\n",
       "    .dataframe tbody tr th {\n",
       "        vertical-align: top;\n",
       "    }\n",
       "\n",
       "    .dataframe thead th {\n",
       "        text-align: right;\n",
       "    }\n",
       "</style>\n",
       "<table border=\"1\" class=\"dataframe\">\n",
       "  <thead>\n",
       "    <tr style=\"text-align: right;\">\n",
       "      <th></th>\n",
       "      <th>headline</th>\n",
       "      <th>vader_compound</th>\n",
       "      <th>vader_score</th>\n",
       "      <th>tokenized</th>\n",
       "      <th>bert_score</th>\n",
       "      <th>label</th>\n",
       "    </tr>\n",
       "  </thead>\n",
       "  <tbody>\n",
       "    <tr>\n",
       "      <th>0</th>\n",
       "      <td>markets close mostly lower again rost panw rep...</td>\n",
       "      <td>-0.2960</td>\n",
       "      <td>-2.1840</td>\n",
       "      <td>[input_ids, token_type_ids, attention_mask]</td>\n",
       "      <td>-2.399095</td>\n",
       "      <td>negative</td>\n",
       "    </tr>\n",
       "    <tr>\n",
       "      <th>1</th>\n",
       "      <td>gap plummets on earnings miss cuts fullyear fo...</td>\n",
       "      <td>-0.4215</td>\n",
       "      <td>-2.6860</td>\n",
       "      <td>[input_ids, token_type_ids, attention_mask]</td>\n",
       "      <td>-1.685511</td>\n",
       "      <td>negative</td>\n",
       "    </tr>\n",
       "    <tr>\n",
       "      <th>2</th>\n",
       "      <td>billionaire ken fisher is selling these 10 stocks</td>\n",
       "      <td>0.0000</td>\n",
       "      <td>-1.0000</td>\n",
       "      <td>[input_ids, token_type_ids, attention_mask]</td>\n",
       "      <td>2.723448</td>\n",
       "      <td>negative</td>\n",
       "    </tr>\n",
       "    <tr>\n",
       "      <th>3</th>\n",
       "      <td>corning net income drops 13 shares fall</td>\n",
       "      <td>0.2960</td>\n",
       "      <td>0.1840</td>\n",
       "      <td>[input_ids, token_type_ids, attention_mask]</td>\n",
       "      <td>-3.525082</td>\n",
       "      <td>negative</td>\n",
       "    </tr>\n",
       "    <tr>\n",
       "      <th>4</th>\n",
       "      <td>internet explorer shutdown to cause japan prob...</td>\n",
       "      <td>-0.4019</td>\n",
       "      <td>-2.6076</td>\n",
       "      <td>[input_ids, token_type_ids, attention_mask]</td>\n",
       "      <td>-3.467552</td>\n",
       "      <td>negative</td>\n",
       "    </tr>\n",
       "  </tbody>\n",
       "</table>\n",
       "</div>"
      ],
      "text/plain": [
       "                                            headline  vader_compound  \\\n",
       "0  markets close mostly lower again rost panw rep...         -0.2960   \n",
       "1  gap plummets on earnings miss cuts fullyear fo...         -0.4215   \n",
       "2  billionaire ken fisher is selling these 10 stocks          0.0000   \n",
       "3            corning net income drops 13 shares fall          0.2960   \n",
       "4  internet explorer shutdown to cause japan prob...         -0.4019   \n",
       "\n",
       "   vader_score                                    tokenized bert_score  \\\n",
       "0      -2.1840  [input_ids, token_type_ids, attention_mask]  -2.399095   \n",
       "1      -2.6860  [input_ids, token_type_ids, attention_mask]  -1.685511   \n",
       "2      -1.0000  [input_ids, token_type_ids, attention_mask]   2.723448   \n",
       "3       0.1840  [input_ids, token_type_ids, attention_mask]  -3.525082   \n",
       "4      -2.6076  [input_ids, token_type_ids, attention_mask]  -3.467552   \n",
       "\n",
       "      label  \n",
       "0  negative  \n",
       "1  negative  \n",
       "2  negative  \n",
       "3  negative  \n",
       "4  negative  "
      ]
     },
     "execution_count": 127,
     "metadata": {},
     "output_type": "execute_result"
    }
   ],
   "source": [
    "headline_sentiment_label_df = headline_sentiment_df.merge(df[['headline', 'label']], on = \"headline\", how = \"inner\")\n",
    "headline_sentiment_label_df.head()"
   ]
  },
  {
   "cell_type": "code",
   "execution_count": 128,
   "id": "682bfc9d",
   "metadata": {},
   "outputs": [
    {
     "data": {
      "text/plain": [
       "label\n",
       "negative     1996\n",
       "neutral      6568\n",
       "positive    12440\n",
       "dtype: int64"
      ]
     },
     "execution_count": 128,
     "metadata": {},
     "output_type": "execute_result"
    }
   ],
   "source": [
    "headline_sentiment_label_df.loc[((headline_sentiment_label_df['vader_score']>0)&(headline_sentiment_label_df['bert_score']<0))].groupby(\"label\").size()\n"
   ]
  },
  {
   "cell_type": "code",
   "execution_count": null,
   "id": "c386ac81",
   "metadata": {},
   "outputs": [
    {
     "data": {
      "text/plain": [
       "label\n",
       "negative    3584\n",
       "neutral      732\n",
       "positive     792\n",
       "dtype: int64"
      ]
     },
     "execution_count": 129,
     "metadata": {},
     "output_type": "execute_result"
    }
   ],
   "source": [
    "headline_sentiment_label_df.loc[((headline_sentiment_label_df['vader_score']<0)&(headline_sentiment_label_df['bert_score']>0))].groupby(\"label\").size()"
   ]
  }
 ],
 "metadata": {
  "kernelspec": {
   "display_name": "stock_env",
   "language": "python",
   "name": "python3"
  },
  "language_info": {
   "codemirror_mode": {
    "name": "ipython",
    "version": 3
   },
   "file_extension": ".py",
   "mimetype": "text/x-python",
   "name": "python",
   "nbconvert_exporter": "python",
   "pygments_lexer": "ipython3",
   "version": "3.11.7"
  }
 },
 "nbformat": 4,
 "nbformat_minor": 5
}
