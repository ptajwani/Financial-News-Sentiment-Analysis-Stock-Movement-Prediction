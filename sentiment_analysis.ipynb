{
 "cells": [
  {
   "cell_type": "code",
   "execution_count": 1,
   "id": "97001b92",
   "metadata": {},
   "outputs": [],
   "source": [
    "import pandas as pd"
   ]
  },
  {
   "cell_type": "code",
   "execution_count": 2,
   "id": "05118a0c",
   "metadata": {},
   "outputs": [
    {
     "data": {
      "text/html": [
       "<div>\n",
       "<style scoped>\n",
       "    .dataframe tbody tr th:only-of-type {\n",
       "        vertical-align: middle;\n",
       "    }\n",
       "\n",
       "    .dataframe tbody tr th {\n",
       "        vertical-align: top;\n",
       "    }\n",
       "\n",
       "    .dataframe thead th {\n",
       "        text-align: right;\n",
       "    }\n",
       "</style>\n",
       "<table border=\"1\" class=\"dataframe\">\n",
       "  <thead>\n",
       "    <tr style=\"text-align: right;\">\n",
       "      <th></th>\n",
       "      <th>date</th>\n",
       "      <th>open</th>\n",
       "      <th>close</th>\n",
       "      <th>movement</th>\n",
       "      <th>headline</th>\n",
       "      <th>label</th>\n",
       "      <th>label_num</th>\n",
       "    </tr>\n",
       "  </thead>\n",
       "  <tbody>\n",
       "    <tr>\n",
       "      <th>0</th>\n",
       "      <td>2023-01-03</td>\n",
       "      <td>128.613993</td>\n",
       "      <td>123.470619</td>\n",
       "      <td>-5.143374</td>\n",
       "      <td>markets close mostly lower again rost panw rep...</td>\n",
       "      <td>negative</td>\n",
       "      <td>-1</td>\n",
       "    </tr>\n",
       "    <tr>\n",
       "      <th>1</th>\n",
       "      <td>2023-01-03</td>\n",
       "      <td>128.613993</td>\n",
       "      <td>123.470619</td>\n",
       "      <td>-5.143374</td>\n",
       "      <td>gap plummets on earnings miss cuts fullyear fo...</td>\n",
       "      <td>negative</td>\n",
       "      <td>-1</td>\n",
       "    </tr>\n",
       "    <tr>\n",
       "      <th>2</th>\n",
       "      <td>2023-01-03</td>\n",
       "      <td>128.613993</td>\n",
       "      <td>123.470619</td>\n",
       "      <td>-5.143374</td>\n",
       "      <td>billionaire ken fisher is selling these 10 stocks</td>\n",
       "      <td>negative</td>\n",
       "      <td>-1</td>\n",
       "    </tr>\n",
       "    <tr>\n",
       "      <th>3</th>\n",
       "      <td>2023-01-03</td>\n",
       "      <td>128.613993</td>\n",
       "      <td>123.470619</td>\n",
       "      <td>-5.143374</td>\n",
       "      <td>corning net income drops 13 shares fall</td>\n",
       "      <td>negative</td>\n",
       "      <td>-1</td>\n",
       "    </tr>\n",
       "    <tr>\n",
       "      <th>4</th>\n",
       "      <td>2023-01-03</td>\n",
       "      <td>128.613993</td>\n",
       "      <td>123.470619</td>\n",
       "      <td>-5.143374</td>\n",
       "      <td>internet explorer shutdown to cause japan prob...</td>\n",
       "      <td>negative</td>\n",
       "      <td>-1</td>\n",
       "    </tr>\n",
       "  </tbody>\n",
       "</table>\n",
       "</div>"
      ],
      "text/plain": [
       "         date        open       close  movement  \\\n",
       "0  2023-01-03  128.613993  123.470619 -5.143374   \n",
       "1  2023-01-03  128.613993  123.470619 -5.143374   \n",
       "2  2023-01-03  128.613993  123.470619 -5.143374   \n",
       "3  2023-01-03  128.613993  123.470619 -5.143374   \n",
       "4  2023-01-03  128.613993  123.470619 -5.143374   \n",
       "\n",
       "                                            headline     label  label_num  \n",
       "0  markets close mostly lower again rost panw rep...  negative         -1  \n",
       "1  gap plummets on earnings miss cuts fullyear fo...  negative         -1  \n",
       "2  billionaire ken fisher is selling these 10 stocks  negative         -1  \n",
       "3            corning net income drops 13 shares fall  negative         -1  \n",
       "4  internet explorer shutdown to cause japan prob...  negative         -1  "
      ]
     },
     "execution_count": 2,
     "metadata": {},
     "output_type": "execute_result"
    }
   ],
   "source": [
    "aapl_df = pd.read_csv(\"data/formatted_csv/AAPL_merged.csv\")\n",
    "amzn_df = pd.read_csv(\"data/formatted_csv/AMZN_merged.csv\")\n",
    "msft_df = pd.read_csv(\"data/formatted_csv/MSFT_merged.csv\")\n",
    "tsla_df = pd.read_csv(\"data/formatted_csv/TSLA_merged.csv\")\n",
    "\n",
    "df = pd.concat([aapl_df, amzn_df])\n",
    "df = pd.concat([df, msft_df])\n",
    "df = pd.concat([df, tsla_df])\n",
    "\n",
    "df.head()"
   ]
  },
  {
   "cell_type": "code",
   "execution_count": 3,
   "id": "22573774",
   "metadata": {},
   "outputs": [
    {
     "data": {
      "text/plain": [
       "(104000, 7)"
      ]
     },
     "execution_count": 3,
     "metadata": {},
     "output_type": "execute_result"
    }
   ],
   "source": [
    "df.shape"
   ]
  },
  {
   "cell_type": "code",
   "execution_count": 4,
   "id": "a61f4518",
   "metadata": {},
   "outputs": [
    {
     "data": {
      "text/plain": [
       "Index(['date', 'open', 'close', 'movement', 'headline', 'label', 'label_num'], dtype='object')"
      ]
     },
     "execution_count": 4,
     "metadata": {},
     "output_type": "execute_result"
    }
   ],
   "source": [
    "df.columns"
   ]
  },
  {
   "cell_type": "code",
   "execution_count": 5,
   "id": "ffb70066",
   "metadata": {},
   "outputs": [
    {
     "data": {
      "text/plain": [
       "[{'date': '2023-01-03',\n",
       "  'open': 128.61399342864948,\n",
       "  'close': 123.47061920166016,\n",
       "  'movement': -5.143374226989323,\n",
       "  'headline': 'markets close mostly lower again rost panw report earnings',\n",
       "  'label': 'negative',\n",
       "  'label_num': -1},\n",
       " {'date': '2023-01-03',\n",
       "  'open': 128.61399342864948,\n",
       "  'close': 123.47061920166016,\n",
       "  'movement': -5.143374226989323,\n",
       "  'headline': 'gap plummets on earnings miss cuts fullyear forecast',\n",
       "  'label': 'negative',\n",
       "  'label_num': -1}]"
      ]
     },
     "execution_count": 5,
     "metadata": {},
     "output_type": "execute_result"
    }
   ],
   "source": [
    "df.to_dict(\"records\")[:2]"
   ]
  },
  {
   "cell_type": "code",
   "execution_count": 6,
   "id": "808a1b08",
   "metadata": {},
   "outputs": [
    {
     "name": "stderr",
     "output_type": "stream",
     "text": [
      "[nltk_data] Downloading package vader_lexicon to\n",
      "[nltk_data]     /Users/varshinibalaji/nltk_data...\n",
      "[nltk_data]   Package vader_lexicon is already up-to-date!\n"
     ]
    },
    {
     "data": {
      "text/plain": [
       "True"
      ]
     },
     "execution_count": 6,
     "metadata": {},
     "output_type": "execute_result"
    }
   ],
   "source": [
    "import nltk\n",
    "from nltk.sentiment.vader import SentimentIntensityAnalyzer\n",
    "\n",
    "nltk.download('vader_lexicon')"
   ]
  },
  {
   "cell_type": "code",
   "execution_count": 7,
   "id": "631063c5",
   "metadata": {},
   "outputs": [
    {
     "name": "stderr",
     "output_type": "stream",
     "text": [
      "100%|██████████| 104000/104000 [00:05<00:00, 19301.95it/s]\n"
     ]
    }
   ],
   "source": [
    "from tqdm import tqdm\n",
    "\n",
    "vader = SentimentIntensityAnalyzer()\n",
    "\n",
    "def map_sentiment(score, label):\n",
    "    # score ranges [-1, 1]\n",
    "    if label == \"negative\":\n",
    "        # scaling -ve scores to [-5, -1]\n",
    "        return -5 + 4 * (score + 1) / 1 \n",
    "    else:\n",
    "        return 1 + 4 * score / 1  # scaling score to 1 → 5\n",
    "\n",
    "records = df.to_dict(\"records\")\n",
    "results = []\n",
    "\n",
    "for record in tqdm(records):\n",
    "    text = record[\"headline\"]\n",
    "    label = record[\"label\"]\n",
    "    \n",
    "    # vader sentiment analysis\n",
    "    sentiment_scores = vader.polarity_scores(text)\n",
    "    compound = sentiment_scores[\"compound\"]\n",
    "    \n",
    "    # scale vader score to -5 to -1 and 1 to 5\n",
    "    sentiment_score = map_sentiment(compound, label)\n",
    "    \n",
    "    results.append({\"headline\": text, \"vader_compound\": compound, \"custom_score\": sentiment_score})"
   ]
  },
  {
   "cell_type": "code",
   "execution_count": 8,
   "id": "d483ba21",
   "metadata": {},
   "outputs": [],
   "source": [
    "results_vader_df = pd.DataFrame(results)"
   ]
  },
  {
   "cell_type": "code",
   "execution_count": 9,
   "id": "dcaca5bf",
   "metadata": {},
   "outputs": [
    {
     "data": {
      "text/plain": [
       "count    104000.000000\n",
       "mean          1.133785\n",
       "std           1.609657\n",
       "min          -4.533600\n",
       "25%           1.000000\n",
       "50%           1.000000\n",
       "75%           2.272800\n",
       "max           4.851200\n",
       "Name: custom_score, dtype: float64"
      ]
     },
     "execution_count": 9,
     "metadata": {},
     "output_type": "execute_result"
    }
   ],
   "source": [
    "results_vader_df['custom_score'].describe()"
   ]
  },
  {
   "cell_type": "markdown",
   "id": "f71973ab",
   "metadata": {},
   "source": [
    "Using BERT to perform sentiment classification"
   ]
  },
  {
   "cell_type": "code",
   "execution_count": 10,
   "id": "8dba2ddd",
   "metadata": {},
   "outputs": [
    {
     "name": "stderr",
     "output_type": "stream",
     "text": [
      "/Users/varshinibalaji/ds_projects/Financial-News-Sentiment-Analysis-Stock-Movement-Prediction/stock_env/lib/python3.11/site-packages/tqdm/auto.py:21: TqdmWarning: IProgress not found. Please update jupyter and ipywidgets. See https://ipywidgets.readthedocs.io/en/stable/user_install.html\n",
      "  from .autonotebook import tqdm as notebook_tqdm\n"
     ]
    }
   ],
   "source": [
    "import transformers\n",
    "from transformers import BertModel, BertTokenizer, get_linear_schedule_with_warmup\n",
    "from torch.optim import AdamW\n",
    "import torch\n",
    "from torch import nn, optim\n",
    "from torch.utils.data import Dataset, DataLoader\n"
   ]
  },
  {
   "cell_type": "code",
   "execution_count": 11,
   "id": "26f1243a",
   "metadata": {},
   "outputs": [],
   "source": [
    "# Set the model name\n",
    "MODEL_NAME = 'bert-base-cased'\n",
    "\n",
    "# Build a BERT based tokenizer\n",
    "tokenizer = BertTokenizer.from_pretrained(MODEL_NAME)"
   ]
  },
  {
   "cell_type": "code",
   "execution_count": 13,
   "id": "c5fd8395",
   "metadata": {},
   "outputs": [],
   "source": [
    "tokenizer = BertTokenizer.from_pretrained('bert-base-uncased')\n",
    "\n",
    "# Tokenize the data\n",
    "def tokenize_function(text):\n",
    "    return tokenizer(text, padding='max_length', truncation=True, max_length=128)\n",
    "\n",
    "data = results_vader_df\n",
    "data['tokenized'] = data['headline'].apply(tokenize_function)"
   ]
  },
  {
   "cell_type": "markdown",
   "id": "4e200863",
   "metadata": {},
   "source": [
    "Using `https://huggingface.co/nlptown/bert-base-multilingual-uncased-sentiment` for sentiment scoring - which is finetuned on thousands of product review to predict sentiment - with labels"
   ]
  },
  {
   "cell_type": "code",
   "execution_count": 15,
   "id": "cc2ad631",
   "metadata": {},
   "outputs": [
    {
     "name": "stdout",
     "output_type": "stream",
     "text": [
      "Score: 1.05\n"
     ]
    }
   ],
   "source": [
    "from transformers import AutoTokenizer, AutoModelForSequenceClassification\n",
    "import torch\n",
    "import torch.nn.functional as F\n",
    "\n",
    "model_name = \"nlptown/bert-base-multilingual-uncased-sentiment\"\n",
    "tokenizer = AutoTokenizer.from_pretrained(model_name)\n",
    "model = AutoModelForSequenceClassification.from_pretrained(model_name)\n",
    "\n",
    "def get_sentiment_score(text):\n",
    "    inputs = tokenizer(text, return_tensors=\"pt\", truncation=True)\n",
    "    outputs = model(**inputs)\n",
    "    probs = F.softmax(outputs.logits, dim=1)\n",
    "    stars = torch.arange(1, 6)  # 1 to 5 stars\n",
    "    rating = torch.sum(probs * stars, dim=1).item()  # Expected value\n",
    "    # Map 1–5 stars to -5 to +5\n",
    "    # return (rating - 3) * 2.5  # e.g., 1→-5, 3→0, 5→+5\n",
    "    return rating\n",
    "\n",
    "\n",
    "# Test\n",
    "text = \"this is the worst thing in the world\"\n",
    "score = get_sentiment_score(text)\n",
    "print(f\"Score: {score:.2f}\")"
   ]
  },
  {
   "cell_type": "code",
   "execution_count": 21,
   "id": "0d1f3e40",
   "metadata": {},
   "outputs": [
    {
     "name": "stdout",
     "output_type": "stream",
     "text": [
      "Score: 4.96\n"
     ]
    },
    {
     "data": {
      "text/plain": [
       "2.910137176513672"
      ]
     },
     "execution_count": 21,
     "metadata": {},
     "output_type": "execute_result"
    }
   ],
   "source": [
    "def scale_score(score, label):\n",
    "    if label == \"negative\":\n",
    "        # Map [1, 5] to [-5, -1]\n",
    "        return -5 + (score - 1) * 2\n",
    "    else:\n",
    "        # Map [1, 5] to [1, 5]\n",
    "        return -1 + score * 2\n",
    "\n",
    "\n",
    "text = \"i love this, this is the best thing ever\"\n",
    "score = get_sentiment_score(text)\n",
    "print(f\"Score: {score:.2f}\")\n",
    "scale_score(score, \"negative\")"
   ]
  },
  {
   "cell_type": "code",
   "execution_count": 26,
   "id": "e54706b5",
   "metadata": {},
   "outputs": [],
   "source": [
    "results_vader_df.drop_duplicates(\"headline\", inplace = True)"
   ]
  },
  {
   "cell_type": "code",
   "execution_count": 134,
   "id": "2412fabb",
   "metadata": {},
   "outputs": [
    {
     "name": "stderr",
     "output_type": "stream",
     "text": [
      "Scoring headlines: 100%|██████████| 25936/25936 [35:05<00:00, 12.32it/s]   \n"
     ]
    }
   ],
   "source": [
    "from tqdm import tqdm\n",
    "import polars as pl\n",
    "\n",
    "results_pdf = pl.from_pandas(results_df[['headline']])\n",
    "\n",
    "# Config\n",
    "CHECKPOINT_EVERY = 1000\n",
    "OUT_DIR = \"results2\"\n",
    "\n",
    "# Convert to list\n",
    "headlines = results_pdf[\"headline\"].to_list()\n",
    "scores = []\n",
    "\n",
    "# Process row-by-row with progress\n",
    "for i, h in enumerate(tqdm(headlines, desc=\"Scoring headlines\")):\n",
    "    scores.append(get_sentiment_score(h))\n",
    "\n",
    "    # Every N rows: checkpoint\n",
    "    if (i + 1) % CHECKPOINT_EVERY == 0 or (i + 1) == len(headlines):\n",
    "        partial_df = results_pdf[:i+1].with_columns(pl.Series(\"score\", scores))\n",
    "        partial_df.write_parquet(f\"{OUT_DIR}/sentiment_progress_up_to_row_{i+1}.parquet\")"
   ]
  },
  {
   "cell_type": "code",
   "execution_count": null,
   "id": "7a64fc86",
   "metadata": {},
   "outputs": [
    {
     "name": "stderr",
     "output_type": "stream",
     "text": [
      "Scoring headlines: 100%|██████████| 104000/104000 [3:53:01<00:00,  7.44it/s]\n"
     ]
    }
   ],
   "source": [
    "from tqdm import tqdm\n",
    "import polars as pl\n",
    "\n",
    "results_pdf = pl.from_pandas(results_df[['headline']])\n",
    "\n",
    "# Config\n",
    "CHECKPOINT_EVERY = 1000\n",
    "OUT_DIR = \"results2\"\n",
    "\n",
    "# Convert to list\n",
    "headlines = results_pdf[\"headline\"].to_list()\n",
    "scores = []\n",
    "\n",
    "# Process row-by-row with progress\n",
    "for i, h in enumerate(tqdm(headlines, desc=\"Scoring headlines\")):\n",
    "    scores.append(get_sentiment_score(h))\n",
    "\n",
    "    # Every N rows: checkpoint\n",
    "    if (i + 1) % CHECKPOINT_EVERY == 0 or (i + 1) == len(headlines):\n",
    "        partial_df = results_pdf[:i+1].with_columns(pl.Series(\"score\", scores))\n",
    "        partial_df.write_parquet(f\"{OUT_DIR}/sentiment_progress_up_to_row_{i+1}.parquet\")"
   ]
  },
  {
   "cell_type": "code",
   "execution_count": 24,
   "id": "37397119",
   "metadata": {},
   "outputs": [],
   "source": [
    "partial_df = pd.read_parquet(f\"results2/sentiment_progress_up_to_row_25936.parquet\")\n",
    "partial_df.columns = ['headline', 'bert_score']"
   ]
  },
  {
   "cell_type": "code",
   "execution_count": 29,
   "id": "a7bb97eb",
   "metadata": {},
   "outputs": [],
   "source": [
    "results_vader_df.columns = ['headline', 'vader_compound', 'vader_score', 'tokenized']"
   ]
  },
  {
   "cell_type": "code",
   "execution_count": 31,
   "id": "40679722",
   "metadata": {},
   "outputs": [],
   "source": [
    "results_merge = partial_df.merge(results_vader_df, on = \"headline\", how = \"left\")"
   ]
  },
  {
   "cell_type": "code",
   "execution_count": 44,
   "id": "7f4a861d",
   "metadata": {},
   "outputs": [],
   "source": [
    "results_merge_df = df.drop_duplicates(\"headline\")[['headline', 'label']].merge(results_merge, on = \"headline\", how = \"inner\")"
   ]
  },
  {
   "cell_type": "code",
   "execution_count": 40,
   "id": "d95d44f0",
   "metadata": {},
   "outputs": [
    {
     "data": {
      "text/html": [
       "<div>\n",
       "<style scoped>\n",
       "    .dataframe tbody tr th:only-of-type {\n",
       "        vertical-align: middle;\n",
       "    }\n",
       "\n",
       "    .dataframe tbody tr th {\n",
       "        vertical-align: top;\n",
       "    }\n",
       "\n",
       "    .dataframe thead th {\n",
       "        text-align: right;\n",
       "    }\n",
       "</style>\n",
       "<table border=\"1\" class=\"dataframe\">\n",
       "  <thead>\n",
       "    <tr style=\"text-align: right;\">\n",
       "      <th></th>\n",
       "      <th>headline</th>\n",
       "      <th>label</th>\n",
       "      <th>bert_score</th>\n",
       "      <th>vader_compound</th>\n",
       "      <th>vader_score</th>\n",
       "      <th>tokenized</th>\n",
       "    </tr>\n",
       "  </thead>\n",
       "  <tbody>\n",
       "    <tr>\n",
       "      <th>0</th>\n",
       "      <td>markets close mostly lower again rost panw rep...</td>\n",
       "      <td>negative</td>\n",
       "      <td>2.040362</td>\n",
       "      <td>-0.2960</td>\n",
       "      <td>-2.1840</td>\n",
       "      <td>[input_ids, token_type_ids, attention_mask]</td>\n",
       "    </tr>\n",
       "    <tr>\n",
       "      <th>1</th>\n",
       "      <td>gap plummets on earnings miss cuts fullyear fo...</td>\n",
       "      <td>negative</td>\n",
       "      <td>2.325796</td>\n",
       "      <td>-0.4215</td>\n",
       "      <td>-2.6860</td>\n",
       "      <td>[input_ids, token_type_ids, attention_mask]</td>\n",
       "    </tr>\n",
       "    <tr>\n",
       "      <th>2</th>\n",
       "      <td>billionaire ken fisher is selling these 10 stocks</td>\n",
       "      <td>negative</td>\n",
       "      <td>4.089379</td>\n",
       "      <td>0.0000</td>\n",
       "      <td>-1.0000</td>\n",
       "      <td>[input_ids, token_type_ids, attention_mask]</td>\n",
       "    </tr>\n",
       "    <tr>\n",
       "      <th>3</th>\n",
       "      <td>corning net income drops 13 shares fall</td>\n",
       "      <td>negative</td>\n",
       "      <td>1.589967</td>\n",
       "      <td>0.2960</td>\n",
       "      <td>0.1840</td>\n",
       "      <td>[input_ids, token_type_ids, attention_mask]</td>\n",
       "    </tr>\n",
       "    <tr>\n",
       "      <th>4</th>\n",
       "      <td>internet explorer shutdown to cause japan prob...</td>\n",
       "      <td>negative</td>\n",
       "      <td>1.612979</td>\n",
       "      <td>-0.4019</td>\n",
       "      <td>-2.6076</td>\n",
       "      <td>[input_ids, token_type_ids, attention_mask]</td>\n",
       "    </tr>\n",
       "    <tr>\n",
       "      <th>...</th>\n",
       "      <td>...</td>\n",
       "      <td>...</td>\n",
       "      <td>...</td>\n",
       "      <td>...</td>\n",
       "      <td>...</td>\n",
       "      <td>...</td>\n",
       "    </tr>\n",
       "    <tr>\n",
       "      <th>25931</th>\n",
       "      <td>boston scientific bsx q1 earnings top 2022 rev...</td>\n",
       "      <td>positive</td>\n",
       "      <td>4.651347</td>\n",
       "      <td>0.2023</td>\n",
       "      <td>1.8092</td>\n",
       "      <td>[input_ids, token_type_ids, attention_mask]</td>\n",
       "    </tr>\n",
       "    <tr>\n",
       "      <th>25932</th>\n",
       "      <td>producer sentiment improves with strengthened ...</td>\n",
       "      <td>positive</td>\n",
       "      <td>2.892199</td>\n",
       "      <td>-0.2263</td>\n",
       "      <td>0.0948</td>\n",
       "      <td>[input_ids, token_type_ids, attention_mask]</td>\n",
       "    </tr>\n",
       "    <tr>\n",
       "      <th>25933</th>\n",
       "      <td>equinix declares quarterly dividend on its com...</td>\n",
       "      <td>positive</td>\n",
       "      <td>2.964839</td>\n",
       "      <td>0.0000</td>\n",
       "      <td>1.0000</td>\n",
       "      <td>[input_ids, token_type_ids, attention_mask]</td>\n",
       "    </tr>\n",
       "    <tr>\n",
       "      <th>25934</th>\n",
       "      <td>featurelove island dumps fast fashion for seco...</td>\n",
       "      <td>positive</td>\n",
       "      <td>3.219742</td>\n",
       "      <td>-0.4019</td>\n",
       "      <td>-0.6076</td>\n",
       "      <td>[input_ids, token_type_ids, attention_mask]</td>\n",
       "    </tr>\n",
       "    <tr>\n",
       "      <th>25935</th>\n",
       "      <td>after plunging 15.5 in 4 weeks heres why the t...</td>\n",
       "      <td>positive</td>\n",
       "      <td>2.075600</td>\n",
       "      <td>0.0000</td>\n",
       "      <td>1.0000</td>\n",
       "      <td>[input_ids, token_type_ids, attention_mask]</td>\n",
       "    </tr>\n",
       "  </tbody>\n",
       "</table>\n",
       "<p>25936 rows × 6 columns</p>\n",
       "</div>"
      ],
      "text/plain": [
       "                                                headline     label  \\\n",
       "0      markets close mostly lower again rost panw rep...  negative   \n",
       "1      gap plummets on earnings miss cuts fullyear fo...  negative   \n",
       "2      billionaire ken fisher is selling these 10 stocks  negative   \n",
       "3                corning net income drops 13 shares fall  negative   \n",
       "4      internet explorer shutdown to cause japan prob...  negative   \n",
       "...                                                  ...       ...   \n",
       "25931  boston scientific bsx q1 earnings top 2022 rev...  positive   \n",
       "25932  producer sentiment improves with strengthened ...  positive   \n",
       "25933  equinix declares quarterly dividend on its com...  positive   \n",
       "25934  featurelove island dumps fast fashion for seco...  positive   \n",
       "25935  after plunging 15.5 in 4 weeks heres why the t...  positive   \n",
       "\n",
       "       bert_score  vader_compound  vader_score  \\\n",
       "0        2.040362         -0.2960      -2.1840   \n",
       "1        2.325796         -0.4215      -2.6860   \n",
       "2        4.089379          0.0000      -1.0000   \n",
       "3        1.589967          0.2960       0.1840   \n",
       "4        1.612979         -0.4019      -2.6076   \n",
       "...           ...             ...          ...   \n",
       "25931    4.651347          0.2023       1.8092   \n",
       "25932    2.892199         -0.2263       0.0948   \n",
       "25933    2.964839          0.0000       1.0000   \n",
       "25934    3.219742         -0.4019      -0.6076   \n",
       "25935    2.075600          0.0000       1.0000   \n",
       "\n",
       "                                         tokenized  \n",
       "0      [input_ids, token_type_ids, attention_mask]  \n",
       "1      [input_ids, token_type_ids, attention_mask]  \n",
       "2      [input_ids, token_type_ids, attention_mask]  \n",
       "3      [input_ids, token_type_ids, attention_mask]  \n",
       "4      [input_ids, token_type_ids, attention_mask]  \n",
       "...                                            ...  \n",
       "25931  [input_ids, token_type_ids, attention_mask]  \n",
       "25932  [input_ids, token_type_ids, attention_mask]  \n",
       "25933  [input_ids, token_type_ids, attention_mask]  \n",
       "25934  [input_ids, token_type_ids, attention_mask]  \n",
       "25935  [input_ids, token_type_ids, attention_mask]  \n",
       "\n",
       "[25936 rows x 6 columns]"
      ]
     },
     "execution_count": 40,
     "metadata": {},
     "output_type": "execute_result"
    }
   ],
   "source": [
    "results_merge_df"
   ]
  },
  {
   "cell_type": "code",
   "execution_count": 45,
   "id": "04dca822",
   "metadata": {},
   "outputs": [],
   "source": [
    "def scale_score(score, label):\n",
    "    if label == \"negative\":\n",
    "        # Map [1, 5] → [-5, -1]\n",
    "        return -5 + 4 * (score - 1) / 4\n",
    "    else:\n",
    "        # Keep [1, 5] as is\n",
    "        return score\n",
    "\n",
    "results_merge_df['bert_score_scaled'] = results_merge_df.apply(lambda x: scale_score(x['bert_score'], x['label']), axis = 1)"
   ]
  },
  {
   "cell_type": "code",
   "execution_count": 46,
   "id": "18d3e514",
   "metadata": {},
   "outputs": [
    {
     "data": {
      "text/plain": [
       "count    25936.000000\n",
       "mean         2.266206\n",
       "std          2.867533\n",
       "min         -4.884063\n",
       "25%          2.146257\n",
       "50%          3.447841\n",
       "75%          4.144660\n",
       "max          4.978554\n",
       "Name: bert_score_scaled, dtype: float64"
      ]
     },
     "execution_count": 46,
     "metadata": {},
     "output_type": "execute_result"
    }
   ],
   "source": [
    "results_merge_df['bert_score_scaled'].describe()"
   ]
  },
  {
   "cell_type": "code",
   "execution_count": 47,
   "id": "231535e8",
   "metadata": {},
   "outputs": [
    {
     "data": {
      "text/plain": [
       "label\n",
       "negative     4802\n",
       "neutral      8725\n",
       "positive    12409\n",
       "dtype: int64"
      ]
     },
     "execution_count": 47,
     "metadata": {},
     "output_type": "execute_result"
    }
   ],
   "source": [
    "results_merge_df.groupby('label', dropna = False).size()"
   ]
  },
  {
   "cell_type": "code",
   "execution_count": 51,
   "id": "e0f6ad4d",
   "metadata": {},
   "outputs": [
    {
     "data": {
      "text/plain": [
       "Index(['headline', 'label', 'bert_score', 'vader_compound', 'vader_score',\n",
       "       'tokenized', 'bert_score_scaled'],\n",
       "      dtype='object')"
      ]
     },
     "execution_count": 51,
     "metadata": {},
     "output_type": "execute_result"
    }
   ],
   "source": [
    "results_merge_df.columns"
   ]
  },
  {
   "cell_type": "code",
   "execution_count": 54,
   "id": "fe080c8f",
   "metadata": {},
   "outputs": [
    {
     "data": {
      "text/html": [
       "<div><style>\n",
       ".dataframe > thead > tr,\n",
       ".dataframe > tbody > tr {\n",
       "  text-align: right;\n",
       "  white-space: pre-wrap;\n",
       "}\n",
       "</style>\n",
       "<small>shape: (25_936, 4)</small><table border=\"1\" class=\"dataframe\"><thead><tr><th>headline</th><th>label</th><th>vader_score</th><th>bert_score</th></tr><tr><td>str</td><td>str</td><td>f64</td><td>f64</td></tr></thead><tbody><tr><td>&quot;markets close mostly lower aga…</td><td>&quot;negative&quot;</td><td>-2.184</td><td>-3.959638</td></tr><tr><td>&quot;gap plummets on earnings miss …</td><td>&quot;negative&quot;</td><td>-2.686</td><td>-3.674204</td></tr><tr><td>&quot;billionaire ken fisher is sell…</td><td>&quot;negative&quot;</td><td>-1.0</td><td>-1.910621</td></tr><tr><td>&quot;corning net income drops 13 sh…</td><td>&quot;negative&quot;</td><td>0.184</td><td>-4.410033</td></tr><tr><td>&quot;internet explorer shutdown to …</td><td>&quot;negative&quot;</td><td>-2.6076</td><td>-4.387021</td></tr><tr><td>&hellip;</td><td>&hellip;</td><td>&hellip;</td><td>&hellip;</td></tr><tr><td>&quot;boston scientific bsx q1 earni…</td><td>&quot;positive&quot;</td><td>1.8092</td><td>4.651347</td></tr><tr><td>&quot;producer sentiment improves wi…</td><td>&quot;positive&quot;</td><td>0.0948</td><td>2.892199</td></tr><tr><td>&quot;equinix declares quarterly div…</td><td>&quot;positive&quot;</td><td>1.0</td><td>2.964839</td></tr><tr><td>&quot;featurelove island dumps fast …</td><td>&quot;positive&quot;</td><td>-0.6076</td><td>3.219742</td></tr><tr><td>&quot;after plunging 15.5 in 4 weeks…</td><td>&quot;positive&quot;</td><td>1.0</td><td>2.0756</td></tr></tbody></table></div>"
      ],
      "text/plain": [
       "shape: (25_936, 4)\n",
       "┌─────────────────────────────────┬──────────┬─────────────┬────────────┐\n",
       "│ headline                        ┆ label    ┆ vader_score ┆ bert_score │\n",
       "│ ---                             ┆ ---      ┆ ---         ┆ ---        │\n",
       "│ str                             ┆ str      ┆ f64         ┆ f64        │\n",
       "╞═════════════════════════════════╪══════════╪═════════════╪════════════╡\n",
       "│ markets close mostly lower aga… ┆ negative ┆ -2.184      ┆ -3.959638  │\n",
       "│ gap plummets on earnings miss … ┆ negative ┆ -2.686      ┆ -3.674204  │\n",
       "│ billionaire ken fisher is sell… ┆ negative ┆ -1.0        ┆ -1.910621  │\n",
       "│ corning net income drops 13 sh… ┆ negative ┆ 0.184       ┆ -4.410033  │\n",
       "│ internet explorer shutdown to … ┆ negative ┆ -2.6076     ┆ -4.387021  │\n",
       "│ …                               ┆ …        ┆ …           ┆ …          │\n",
       "│ boston scientific bsx q1 earni… ┆ positive ┆ 1.8092      ┆ 4.651347   │\n",
       "│ producer sentiment improves wi… ┆ positive ┆ 0.0948      ┆ 2.892199   │\n",
       "│ equinix declares quarterly div… ┆ positive ┆ 1.0         ┆ 2.964839   │\n",
       "│ featurelove island dumps fast … ┆ positive ┆ -0.6076     ┆ 3.219742   │\n",
       "│ after plunging 15.5 in 4 weeks… ┆ positive ┆ 1.0         ┆ 2.0756     │\n",
       "└─────────────────────────────────┴──────────┴─────────────┴────────────┘"
      ]
     },
     "execution_count": 54,
     "metadata": {},
     "output_type": "execute_result"
    }
   ],
   "source": [
    "import polars as pl\n",
    "\n",
    "final_df = results_merge_df[['headline', 'label', 'vader_score','bert_score_scaled']]\n",
    "final_df.columns = ['headline', 'label', 'vader_score','bert_score']\n",
    "results_merged_pdf = pl.from_pandas(final_df)\n",
    "results_merged_pdf"
   ]
  },
  {
   "cell_type": "markdown",
   "id": "7a8da45b",
   "metadata": {},
   "source": [
    "#### comparing vader score and bert score"
   ]
  },
  {
   "cell_type": "code",
   "execution_count": 60,
   "id": "de2f279a",
   "metadata": {},
   "outputs": [
    {
     "name": "stdout",
     "output_type": "stream",
     "text": [
      "['headline', 'label', 'vader_score', 'bert_score', 'positive_score']\n"
     ]
    },
    {
     "name": "stderr",
     "output_type": "stream",
     "text": [
      "/var/folders/5p/k025km096tndpdfzbd0mhr8c0000gn/T/ipykernel_1618/556908574.py:11: DeprecationWarning: `pl.count()` is deprecated. Please use `pl.len()` instead.\n",
      "(Deprecated in version 0.20.5)\n",
      "  pl.count().alias(\"count\"),\n"
     ]
    }
   ],
   "source": [
    "df2 = results_merged_pdf.with_columns(\n",
    "    (pl.col(\"bert_score\") > 0).alias(\"positive_score\")\n",
    ")\n",
    "print(df2.columns)  # now includes “positive_score”\n",
    "\n",
    "\n",
    "grouped_df_bert = (\n",
    "    df2\n",
    "    .group_by([\"label\", \"positive_score\"])\n",
    "    .agg([\n",
    "        pl.count().alias(\"count\"),\n",
    "        pl.col(\"bert_score\").mean().alias(\"avg_score\")\n",
    "    ])\n",
    ")"
   ]
  },
  {
   "cell_type": "code",
   "execution_count": 58,
   "id": "329067e1",
   "metadata": {},
   "outputs": [
    {
     "name": "stdout",
     "output_type": "stream",
     "text": [
      "['headline', 'label', 'vader_score', 'bert_score', 'positive_score']\n"
     ]
    },
    {
     "name": "stderr",
     "output_type": "stream",
     "text": [
      "/var/folders/5p/k025km096tndpdfzbd0mhr8c0000gn/T/ipykernel_1618/3750447260.py:11: DeprecationWarning: `pl.count()` is deprecated. Please use `pl.len()` instead.\n",
      "(Deprecated in version 0.20.5)\n",
      "  pl.count().alias(\"count\"),\n"
     ]
    }
   ],
   "source": [
    "df3 = results_merged_pdf.with_columns(\n",
    "    (pl.col(\"vader_score\") > 0).alias(\"positive_score\")\n",
    ")\n",
    "print(df2.columns)  # now includes “positive_score”\n",
    "\n",
    "\n",
    "grouped_df_vader = (\n",
    "    df2\n",
    "    .group_by([\"label\", \"positive_score\"])\n",
    "    .agg([\n",
    "        pl.count().alias(\"count\"),\n",
    "        pl.col(\"vader_score\").mean().alias(\"avg_score\")\n",
    "    ])\n",
    ")"
   ]
  },
  {
   "cell_type": "code",
   "execution_count": 61,
   "id": "a0996a0c",
   "metadata": {},
   "outputs": [
    {
     "data": {
      "text/html": [
       "<div><style>\n",
       ".dataframe > thead > tr,\n",
       ".dataframe > tbody > tr {\n",
       "  text-align: right;\n",
       "  white-space: pre-wrap;\n",
       "}\n",
       "</style>\n",
       "<small>shape: (3, 4)</small><table border=\"1\" class=\"dataframe\"><thead><tr><th>label</th><th>positive_score</th><th>count</th><th>avg_score</th></tr><tr><td>str</td><td>bool</td><td>u32</td><td>f64</td></tr></thead><tbody><tr><td>&quot;positive&quot;</td><td>true</td><td>12409</td><td>3.485661</td></tr><tr><td>&quot;neutral&quot;</td><td>true</td><td>8725</td><td>3.693619</td></tr><tr><td>&quot;negative&quot;</td><td>false</td><td>4802</td><td>-3.478568</td></tr></tbody></table></div>"
      ],
      "text/plain": [
       "shape: (3, 4)\n",
       "┌──────────┬────────────────┬───────┬───────────┐\n",
       "│ label    ┆ positive_score ┆ count ┆ avg_score │\n",
       "│ ---      ┆ ---            ┆ ---   ┆ ---       │\n",
       "│ str      ┆ bool           ┆ u32   ┆ f64       │\n",
       "╞══════════╪════════════════╪═══════╪═══════════╡\n",
       "│ positive ┆ true           ┆ 12409 ┆ 3.485661  │\n",
       "│ neutral  ┆ true           ┆ 8725  ┆ 3.693619  │\n",
       "│ negative ┆ false          ┆ 4802  ┆ -3.478568 │\n",
       "└──────────┴────────────────┴───────┴───────────┘"
      ]
     },
     "execution_count": 61,
     "metadata": {},
     "output_type": "execute_result"
    }
   ],
   "source": [
    "grouped_df_bert"
   ]
  },
  {
   "cell_type": "code",
   "execution_count": 62,
   "id": "7d5584fc",
   "metadata": {},
   "outputs": [
    {
     "data": {
      "text/html": [
       "<div><style>\n",
       ".dataframe > thead > tr,\n",
       ".dataframe > tbody > tr {\n",
       "  text-align: right;\n",
       "  white-space: pre-wrap;\n",
       "}\n",
       "</style>\n",
       "<small>shape: (3, 4)</small><table border=\"1\" class=\"dataframe\"><thead><tr><th>label</th><th>positive_score</th><th>count</th><th>avg_score</th></tr><tr><td>str</td><td>bool</td><td>u32</td><td>f64</td></tr></thead><tbody><tr><td>&quot;positive&quot;</td><td>true</td><td>12409</td><td>1.655822</td></tr><tr><td>&quot;negative&quot;</td><td>false</td><td>4802</td><td>-1.188264</td></tr><tr><td>&quot;neutral&quot;</td><td>true</td><td>8725</td><td>1.665412</td></tr></tbody></table></div>"
      ],
      "text/plain": [
       "shape: (3, 4)\n",
       "┌──────────┬────────────────┬───────┬───────────┐\n",
       "│ label    ┆ positive_score ┆ count ┆ avg_score │\n",
       "│ ---      ┆ ---            ┆ ---   ┆ ---       │\n",
       "│ str      ┆ bool           ┆ u32   ┆ f64       │\n",
       "╞══════════╪════════════════╪═══════╪═══════════╡\n",
       "│ positive ┆ true           ┆ 12409 ┆ 1.655822  │\n",
       "│ negative ┆ false          ┆ 4802  ┆ -1.188264 │\n",
       "│ neutral  ┆ true           ┆ 8725  ┆ 1.665412  │\n",
       "└──────────┴────────────────┴───────┴───────────┘"
      ]
     },
     "execution_count": 62,
     "metadata": {},
     "output_type": "execute_result"
    }
   ],
   "source": [
    "grouped_df_vader"
   ]
  }
 ],
 "metadata": {
  "kernelspec": {
   "display_name": "stock_env",
   "language": "python",
   "name": "python3"
  },
  "language_info": {
   "codemirror_mode": {
    "name": "ipython",
    "version": 3
   },
   "file_extension": ".py",
   "mimetype": "text/x-python",
   "name": "python",
   "nbconvert_exporter": "python",
   "pygments_lexer": "ipython3",
   "version": "3.11.7"
  }
 },
 "nbformat": 4,
 "nbformat_minor": 5
}
